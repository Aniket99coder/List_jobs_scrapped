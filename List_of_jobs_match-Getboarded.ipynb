{
 "cells": [
  {
   "cell_type": "markdown",
   "metadata": {},
   "source": [
    "# Importing the required Packages\n",
    "1) Beautiful Soup   <br> </br>\n",
    "2) Urlopen from Urllib.request <br> </br>\n",
    "3) Pandas to create a dataframe <br> </br>"
   ]
  },
  {
   "cell_type": "code",
   "execution_count": 39,
   "metadata": {},
   "outputs": [],
   "source": [
    "#importing beautiful soup and urllib\n",
    "import bs4\n",
    "from urllib.request import urlopen as uReq\n",
    "from bs4 import BeautifulSoup as soup\n",
    "import pandas as pd"
   ]
  },
  {
   "cell_type": "markdown",
   "metadata": {},
   "source": [
    "# Loading the html file and requesting for the job match\n",
    "\n",
    "For scraping data for a particular job eg : **Accountants** <br></br>\n",
    "The query which needs to be requested is *occupationNames=Accountants+(General)* <br></br>\n",
    "Similarly,for a Software Engineer the query requested should be *occupationNames=Software+Engineer* <br></br>\n",
    "\n",
    "**Note - Make sure you pass the right query otherwise the site would respond without any results matching**<br></br>\n",
    "\n",
    "Link to the career options available - https://joboutlook.gov.au/Career <br> </br>\n",
    "Link to the official website for skill matching - https://joboutlook.gov.au/skills-match <br> </br>"
   ]
  },
  {
   "cell_type": "code",
   "execution_count": 40,
   "metadata": {},
   "outputs": [
    {
     "name": "stderr",
     "output_type": "stream",
     "text": [
      "C:\\Users\\Aniket\\Anaconda3\\lib\\site-packages\\ipykernel_launcher.py:7: DeprecationWarning: AppURLopener style of invoking requests is deprecated. Use newer urlopen functions/methods\n",
      "  import sys\n"
     ]
    }
   ],
   "source": [
    "#Loading the page and parsing it as HTML\n",
    "import urllib.request\n",
    "\n",
    "class AppURLopener(urllib.request.FancyURLopener):\n",
    "    version = \"Mozilla/5.0\"\n",
    "\n",
    "opener = AppURLopener()\n",
    "\n",
    "response = opener.open('https://joboutlook.gov.au/skills-match/job-ideas?occupationNames=Accountants+(General)')\n",
    "\n",
    "page_html=response.read()\n",
    "page_soup=soup(page_html,\"html.parser\")\n"
   ]
  },
  {
   "cell_type": "markdown",
   "metadata": {},
   "source": [
    "# Extracting the jobs \n",
    "1) Job name <br> </br>\n",
    "2) Matching Strength <br> </br>\n",
    "3) Salary <br> </br>\n",
    "4) Growth <br> </br>"
   ]
  },
  {
   "cell_type": "code",
   "execution_count": 41,
   "metadata": {},
   "outputs": [],
   "source": [
    "jobs=[]\n",
    "ratings=[]\n",
    "salarys=[]\n",
    "growths=[]\n",
    "article=page_soup.findAll('article')\n",
    "for article in article:\n",
    "    job_name=article.h3.text.split(\"-\")[0].strip()\n",
    "    rating=len(article.findAll('div',{'class':\"progress-bar progress-1step-of5\"}))\n",
    "    salary=article.find('span',{'class':\"snapshot-data\"}).text\n",
    "    growth=article.findAll('span',{'class':\"snapshot-data\"})[1].text\n",
    "    jobs.append(job_name)\n",
    "    ratings.append(rating)\n",
    "    salarys.append(salary)\n",
    "    growths.append(growth)  "
   ]
  },
  {
   "cell_type": "markdown",
   "metadata": {},
   "source": [
    "# List of the jobs fetched sorted in the order of Match with the query requested"
   ]
  },
  {
   "cell_type": "code",
   "execution_count": null,
   "metadata": {},
   "outputs": [],
   "source": [
    "list_jobs=list(zip(jobs,ratings,salarys,growths))\n",
    "df=pd.DataFrame(list_jobs,columns=['Job','Match Rating out of 5','Salary','Growth'])\n",
    "df"
   ]
  },
  {
   "cell_type": "markdown",
   "metadata": {},
   "source": [
    "![](jobs_accountants.jpg)"
   ]
  },
  {
   "cell_type": "code",
   "execution_count": null,
   "metadata": {},
   "outputs": [],
   "source": []
  }
 ],
 "metadata": {
  "kernelspec": {
   "display_name": "Python 3",
   "language": "python",
   "name": "python3"
  },
  "language_info": {
   "codemirror_mode": {
    "name": "ipython",
    "version": 3
   },
   "file_extension": ".py",
   "mimetype": "text/x-python",
   "name": "python",
   "nbconvert_exporter": "python",
   "pygments_lexer": "ipython3",
   "version": "3.6.5"
  }
 },
 "nbformat": 4,
 "nbformat_minor": 2
}
